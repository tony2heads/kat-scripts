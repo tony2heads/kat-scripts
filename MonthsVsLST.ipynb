{
 "cells": [
  {
   "cell_type": "code",
   "execution_count": 7,
   "metadata": {
    "collapsed": true
   },
   "outputs": [],
   "source": [
    "import ephem\n",
    "kat=ephem.Observer()\n",
    "kat.long='21:24:38.46' #positive east\n",
    "# the following are not really needed, but are kept for other programs\n",
    "kat.lat='-30:43:17.34' #negative south\n",
    "kat.elev=1038.\n",
    "kat.temp=25\n",
    "kat.pressure=892\n",
    "kat.horizon='2:00:00' # 2 degrees\n"
   ]
  },
  {
   "cell_type": "code",
   "execution_count": 23,
   "metadata": {
    "collapsed": false
   },
   "outputs": [
    {
     "name": "stdout",
     "output_type": "stream",
     "text": [
      "Jan \tSunset 2:34:17. \tMidnight 7:05:46. \tSunrise 13:05:19\n",
      "Feb \tSunset 4:19:13. \tMidnight 9:07:59. \tSunrise 15:34:19\n",
      "Mar \tSunset 5:38:56. \tMidnight 10:58:23 \tSunrise 17:44:59\n",
      "Apr \tSunset 7:03:29. \tMidnight 13:00:36 \tSunrise 20:07:05\n",
      "May \tSunset 8:34:11. \tMidnight 14:58:53 \tSunrise 22:25:30\n",
      "Jun \tSunset 10:27:45 \tMidnight 17:01:06 \tSunrise 0:44:26.\n",
      "Jul \tSunset 12:36:55 \tMidnight 18:59:22 \tSunrise 2:42:29.\n",
      "Aug \tSunset 14:58:14 \tMidnight 21:01:36 \tSunrise 4:22:20.\n",
      "Sep \tSunset 17:18:34 \tMidnight 23:03:49 \tSunrise 5:47:46.\n",
      "Oct \tSunset 19:35:00 \tMidnight 1:02:05. \tSunrise 7:09:04.\n",
      "Nov \tSunset 22:01:03 \tMidnight 3:04:19. \tSunrise 8:45:19.\n",
      "Dec \tSunset 0:22:53. \tMidnight 5:02:35. \tSunrise 10:41:30\n"
     ]
    }
   ],
   "source": [
    "year=\"2015-\"\n",
    "day=\"-15\" # middle of month\n",
    "time=\" 22:00:00.\"  #22UT = midnight locally\n",
    "mname={1:\"Jan\", 2:\"Feb\", 3:\"Mar\", 4:\"Apr\", 5:\"May\", 6:\"Jun\", 7:\"Jul\", 8:\"Aug\",\n",
    "       9:\"Sep\", 10:\"Oct\", 11:\"Nov\",12:\"Dec\"}\n",
    "for month in range(1,13):\n",
    "    kat.date=year+str(month)+day+time\n",
    "    lstmidnight=str(kat.sidereal_time())[:8]\n",
    "    sunset=kat.previous_setting(ephem.Sun())\n",
    "    sunrise=kat.next_rising(ephem.Sun())\n",
    "    kat.date=sunset\n",
    "    lstset=str(kat.sidereal_time())[:8]\n",
    "    kat.date=sunrise\n",
    "    lstrise=str(kat.sidereal_time())[:8]\n",
    "    print mname[month] ,\"\\tSunset\", lstset, \"\\tMidnight\", lstmidnight, \"\\tSunrise\", lstrise\n",
    "    \n"
   ]
  },
  {
   "cell_type": "code",
   "execution_count": null,
   "metadata": {
    "collapsed": true
   },
   "outputs": [],
   "source": []
  }
 ],
 "metadata": {
  "kernelspec": {
   "display_name": "Python 2",
   "language": "python",
   "name": "python2"
  },
  "language_info": {
   "codemirror_mode": {
    "name": "ipython",
    "version": 2
   },
   "file_extension": ".py",
   "mimetype": "text/x-python",
   "name": "python",
   "nbconvert_exporter": "python",
   "pygments_lexer": "ipython2",
   "version": "2.7.3"
  }
 },
 "nbformat": 4,
 "nbformat_minor": 0
}
